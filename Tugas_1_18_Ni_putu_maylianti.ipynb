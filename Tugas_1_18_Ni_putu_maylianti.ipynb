{
 "cells": [
  {
   "cell_type": "code",
   "execution_count": 1,
   "id": "89c40c2e",
   "metadata": {},
   "outputs": [
    {
     "name": "stdout",
     "output_type": "stream",
     "text": [
      "ini kelas algoritma!\n"
     ]
    }
   ],
   "source": [
    "print('ini kelas algoritma!')"
   ]
  },
  {
   "cell_type": "code",
   "execution_count": 2,
   "id": "d236eb0d",
   "metadata": {},
   "outputs": [
    {
     "name": "stdout",
     "output_type": "stream",
     "text": [
      "ini kelas algoritma\n"
     ]
    }
   ],
   "source": [
    "print(\"ini kelas algoritma\")"
   ]
  },
  {
   "cell_type": "code",
   "execution_count": 3,
   "id": "3e3b4f78",
   "metadata": {},
   "outputs": [
    {
     "name": "stdout",
     "output_type": "stream",
     "text": [
      "i don't understand what are you saying\n"
     ]
    }
   ],
   "source": [
    "print(\"i don't understand what are you saying\")"
   ]
  },
  {
   "cell_type": "code",
   "execution_count": 5,
   "id": "b29ab79e",
   "metadata": {},
   "outputs": [
    {
     "ename": "SyntaxError",
     "evalue": "invalid syntax (Temp/ipykernel_832/1736511603.py, line 1)",
     "output_type": "error",
     "traceback": [
      "\u001b[1;36m  File \u001b[1;32m\"C:\\Users\\HP\\AppData\\Local\\Temp/ipykernel_832/1736511603.py\"\u001b[1;36m, line \u001b[1;32m1\u001b[0m\n\u001b[1;33m    print('i don't understand what are you saying')\u001b[0m\n\u001b[1;37m                 ^\u001b[0m\n\u001b[1;31mSyntaxError\u001b[0m\u001b[1;31m:\u001b[0m invalid syntax\n"
     ]
    }
   ],
   "source": [
    "print('i don't understand what are you saying')"
   ]
  },
  {
   "cell_type": "code",
   "execution_count": 6,
   "id": "80a84ffd",
   "metadata": {},
   "outputs": [
    {
     "name": "stdout",
     "output_type": "stream",
     "text": [
      "he is such a \"GENIUS\"\n"
     ]
    }
   ],
   "source": [
    "print('he is such a \"GENIUS\"')"
   ]
  },
  {
   "cell_type": "code",
   "execution_count": 7,
   "id": "8adaf3b7",
   "metadata": {},
   "outputs": [
    {
     "ename": "SyntaxError",
     "evalue": "invalid syntax (Temp/ipykernel_832/40071865.py, line 1)",
     "output_type": "error",
     "traceback": [
      "\u001b[1;36m  File \u001b[1;32m\"C:\\Users\\HP\\AppData\\Local\\Temp/ipykernel_832/40071865.py\"\u001b[1;36m, line \u001b[1;32m1\u001b[0m\n\u001b[1;33m    print(\"he is such \"GENIUS\"\")\u001b[0m\n\u001b[1;37m                       ^\u001b[0m\n\u001b[1;31mSyntaxError\u001b[0m\u001b[1;31m:\u001b[0m invalid syntax\n"
     ]
    }
   ],
   "source": [
    "print(\"he is such \"GENIUS\"\")"
   ]
  },
  {
   "cell_type": "code",
   "execution_count": 8,
   "id": "23c48f3a",
   "metadata": {},
   "outputs": [
    {
     "name": "stdout",
     "output_type": "stream",
     "text": [
      "18\n",
      "18000\n",
      "324000\n"
     ]
    }
   ],
   "source": [
    "mahasiswa = 18\n",
    "uang_di_dompet =18000\n",
    "print(mahasiswa)\n",
    "print(uang_di_dompet)\n",
    "print(mahasiswa*uang_di_dompet)"
   ]
  },
  {
   "cell_type": "code",
   "execution_count": 10,
   "id": "e4e0721d",
   "metadata": {},
   "outputs": [
    {
     "name": "stdout",
     "output_type": "stream",
     "text": [
      "wayan bongol\n"
     ]
    }
   ],
   "source": [
    "nama_depan = 'wayan'\n",
    "nama_tengah = \" \"\n",
    "nama_belakang = 'bongol'\n",
    "print(nama_depan + nama_tengah +nama_belakang)"
   ]
  },
  {
   "cell_type": "code",
   "execution_count": 18,
   "id": "d510120b",
   "metadata": {},
   "outputs": [
    {
     "name": "stdout",
     "output_type": "stream",
     "text": [
      "siapakah nama anda?melin\n",
      "apakah kegiatan anda sekarang, melin ?belajar\n",
      "semangat belajar nya yah,melin !\n"
     ]
    }
   ],
   "source": [
    "# input\n",
    "nama = input(\"siapakah nama anda?\")\n",
    "kegiatan = input('apakah kegiatan anda sekarang, ' + nama +\" ?\")\n",
    "print( \"semangat \" + kegiatan + \" nya yah,\" + nama + \" !\")"
   ]
  },
  {
   "cell_type": "code",
   "execution_count": 20,
   "id": "5d3109da",
   "metadata": {},
   "outputs": [
    {
     "name": "stdout",
     "output_type": "stream",
     "text": [
      "berapakah uang di dompet anda? 1000000\n",
      " berapakah uang anda di bank? 2000000\n",
      " total uang anda adalah Rp 10000002000000\n"
     ]
    }
   ],
   "source": [
    "uang_di_dompet = input(\"berapakah uang di dompet anda? \")\n",
    "uang_di_bank = input(\" berapakah uang anda di bank? \")\n",
    "print(\" total uang anda adalah Rp \" + uang_di_dompet + uang_di_bank )"
   ]
  },
  {
   "cell_type": "code",
   "execution_count": 24,
   "id": "b7402f36",
   "metadata": {},
   "outputs": [
    {
     "name": "stdout",
     "output_type": "stream",
     "text": [
      "berapakah uang di dompet anda ? 100\n",
      " berapakah uang anda d bank ? 200\n",
      "total uang anda adalah Rp 300\n"
     ]
    }
   ],
   "source": [
    "uang_di_dompet = input (\"berapakah uang di dompet anda ? \")\n",
    "uang_di_bank = input (\" berapakah uang anda d bank ? \")\n",
    "total_uang = int(uang_di_dompet) + int(uang_di_bank)\n",
    "print(\"total uang anda adalah Rp \" + str(total_uang))"
   ]
  },
  {
   "cell_type": "code",
   "execution_count": 25,
   "id": "c363c5fb",
   "metadata": {},
   "outputs": [
    {
     "data": {
      "text/plain": [
       "str"
      ]
     },
     "execution_count": 25,
     "metadata": {},
     "output_type": "execute_result"
    }
   ],
   "source": [
    "type(uang_di_dompet)"
   ]
  },
  {
   "cell_type": "code",
   "execution_count": 26,
   "id": "7a14750f",
   "metadata": {},
   "outputs": [
    {
     "data": {
      "text/plain": [
       "str"
      ]
     },
     "execution_count": 26,
     "metadata": {},
     "output_type": "execute_result"
    }
   ],
   "source": [
    "type(uang_di_bank)"
   ]
  },
  {
   "cell_type": "code",
   "execution_count": 27,
   "id": "b61cfe64",
   "metadata": {},
   "outputs": [
    {
     "data": {
      "text/plain": [
       "int"
      ]
     },
     "execution_count": 27,
     "metadata": {},
     "output_type": "execute_result"
    }
   ],
   "source": [
    "type(total_uang)"
   ]
  },
  {
   "cell_type": "code",
   "execution_count": 29,
   "id": "808a1ca8",
   "metadata": {},
   "outputs": [
    {
     "name": "stdout",
     "output_type": "stream",
     "text": [
      "masukkan bilangan pertama: 9\n",
      "masukkan bilangan kedua : 10\n",
      "jumlah kedua bilangan adalah 19.0\n"
     ]
    }
   ],
   "source": [
    "# buat program penjumlahan dua bilangan dengan menggunakan perintah input dan print\n",
    "bilangan_satu = input(\"masukkan bilangan pertama: \")\n",
    "bilangan_kedua = input(\"masukkan bilangan kedua : \")\n",
    "jumlah = float(bilangan_satu) + float(bilangan_kedua)\n",
    "print(\"jumlah kedua bilangan adalah \" + str(jumlah)) "
   ]
  },
  {
   "cell_type": "code",
   "execution_count": 30,
   "id": "9e9a1232",
   "metadata": {},
   "outputs": [
    {
     "name": "stdout",
     "output_type": "stream",
     "text": [
      "made herlina adalah seorang dosen  di universitas sintuwu maroso.\n"
     ]
    }
   ],
   "source": [
    "# formatted string\n",
    "nama =\"made herlina\"\n",
    "pekerjaan =\"dosen \"\n",
    "institusi =\"universitas sintuwu maroso\"\n",
    "print(nama + ' adalah seorang ' + pekerjaan + ' di ' + institusi + '.')"
   ]
  },
  {
   "cell_type": "code",
   "execution_count": 32,
   "id": "42c87572",
   "metadata": {},
   "outputs": [
    {
     "name": "stdout",
     "output_type": "stream",
     "text": [
      "made herlina adalah seorang dosen  di universitas sintuwu maroso.\n"
     ]
    }
   ],
   "source": [
    "print(f'{nama} adalah seorang {pekerjaan} di {institusi}.')"
   ]
  },
  {
   "cell_type": "code",
   "execution_count": 35,
   "id": "9436c037",
   "metadata": {},
   "outputs": [
    {
     "name": "stdout",
     "output_type": "stream",
     "text": [
      "ini\n"
     ]
    }
   ],
   "source": [
    "# string index\n",
    "kelas = 'ini kelas algoritma'\n",
    "print(kelas[0:3])"
   ]
  },
  {
   "cell_type": "code",
   "execution_count": 36,
   "id": "0dece32f",
   "metadata": {},
   "outputs": [
    {
     "name": "stdout",
     "output_type": "stream",
     "text": [
      "ini kelas algoritm\n"
     ]
    }
   ],
   "source": [
    "print(kelas[0:-1])"
   ]
  },
  {
   "cell_type": "code",
   "execution_count": 37,
   "id": "a059cc8b",
   "metadata": {},
   "outputs": [
    {
     "name": "stdout",
     "output_type": "stream",
     "text": [
      "elas algoritm\n"
     ]
    }
   ],
   "source": [
    "print(kelas[5:-1])"
   ]
  },
  {
   "cell_type": "code",
   "execution_count": 38,
   "id": "bcea7f6e",
   "metadata": {},
   "outputs": [
    {
     "name": "stdout",
     "output_type": "stream",
     "text": [
      "ieslrm\n"
     ]
    }
   ],
   "source": [
    "print(kelas[2:-1:3])"
   ]
  },
  {
   "cell_type": "code",
   "execution_count": 39,
   "id": "21a977df",
   "metadata": {},
   "outputs": [
    {
     "name": "stdout",
     "output_type": "stream",
     "text": [
      "ini kelas algori\n"
     ]
    }
   ],
   "source": [
    "print(kelas[:-3])"
   ]
  },
  {
   "cell_type": "code",
   "execution_count": 40,
   "id": "52573817",
   "metadata": {},
   "outputs": [
    {
     "name": "stdout",
     "output_type": "stream",
     "text": [
      "ni kelas algoritma\n"
     ]
    }
   ],
   "source": [
    "print(kelas[1:])"
   ]
  },
  {
   "cell_type": "code",
   "execution_count": 41,
   "id": "fb6f718f",
   "metadata": {},
   "outputs": [
    {
     "name": "stdout",
     "output_type": "stream",
     "text": [
      "ini kelas algoritma\n"
     ]
    }
   ],
   "source": [
    "print(kelas[:])"
   ]
  },
  {
   "cell_type": "code",
   "execution_count": 48,
   "id": "d8e65223",
   "metadata": {},
   "outputs": [
    {
     "name": "stdout",
     "output_type": "stream",
     "text": [
      "16\n"
     ]
    }
   ],
   "source": [
    "# string method\n",
    "judul =\"bali surga dunia\"\n",
    "print(len(judul))"
   ]
  },
  {
   "cell_type": "code",
   "execution_count": 43,
   "id": "7fe58fbf",
   "metadata": {},
   "outputs": [
    {
     "data": {
      "text/plain": [
       "'BALI SURGA DUNIA'"
      ]
     },
     "execution_count": 43,
     "metadata": {},
     "output_type": "execute_result"
    }
   ],
   "source": [
    "judul.upper()"
   ]
  },
  {
   "cell_type": "code",
   "execution_count": 44,
   "id": "6d57d1bd",
   "metadata": {},
   "outputs": [
    {
     "data": {
      "text/plain": [
       "'bali surga dunia'"
      ]
     },
     "execution_count": 44,
     "metadata": {},
     "output_type": "execute_result"
    }
   ],
   "source": [
    "judul.lower()"
   ]
  },
  {
   "cell_type": "code",
   "execution_count": 45,
   "id": "538e1b15",
   "metadata": {},
   "outputs": [
    {
     "data": {
      "text/plain": [
       "5"
      ]
     },
     "execution_count": 45,
     "metadata": {},
     "output_type": "execute_result"
    }
   ],
   "source": [
    "judul.find(\"surga\")"
   ]
  },
  {
   "cell_type": "code",
   "execution_count": 46,
   "id": "a426a433",
   "metadata": {},
   "outputs": [
    {
     "data": {
      "text/plain": [
       "0"
      ]
     },
     "execution_count": 46,
     "metadata": {},
     "output_type": "execute_result"
    }
   ],
   "source": [
    "judul.find(\"bali\")"
   ]
  },
  {
   "cell_type": "code",
   "execution_count": 49,
   "id": "173afc59",
   "metadata": {},
   "outputs": [
    {
     "data": {
      "text/plain": [
       "'indonesia surga dunia'"
      ]
     },
     "execution_count": 49,
     "metadata": {},
     "output_type": "execute_result"
    }
   ],
   "source": [
    "judul.replace( \"bali\" , \"indonesia\")"
   ]
  },
  {
   "cell_type": "code",
   "execution_count": 50,
   "id": "42dd203d",
   "metadata": {},
   "outputs": [
    {
     "name": "stdout",
     "output_type": "stream",
     "text": [
      "True\n"
     ]
    }
   ],
   "source": [
    "print('bali' in judul)"
   ]
  },
  {
   "cell_type": "code",
   "execution_count": 51,
   "id": "1568f857",
   "metadata": {},
   "outputs": [
    {
     "name": "stdout",
     "output_type": "stream",
     "text": [
      "False\n"
     ]
    }
   ],
   "source": [
    "print('Bali' in judul)"
   ]
  },
  {
   "cell_type": "code",
   "execution_count": 52,
   "id": "7796c876",
   "metadata": {},
   "outputs": [
    {
     "name": "stdout",
     "output_type": "stream",
     "text": [
      "5\n",
      "-1\n",
      "6\n",
      "2.3333333333333335\n",
      "2\n",
      "1\n",
      "8\n",
      "4\n",
      "2\n",
      "6\n"
     ]
    }
   ],
   "source": [
    "print(2+3)\n",
    "print(2-3)\n",
    "print(2*3)\n",
    "print(7/3)\n",
    "print(7//3)\n",
    "print(7%3)\n",
    "print(2**3)\n",
    "x=3\n",
    "x+=1\n",
    "print(x)\n",
    "x-=2\n",
    "print(x)\n",
    "x*=3\n",
    "print(x)"
   ]
  },
  {
   "cell_type": "code",
   "execution_count": 54,
   "id": "8366fa4f",
   "metadata": {},
   "outputs": [
    {
     "name": "stdout",
     "output_type": "stream",
     "text": [
      "True\n",
      "True\n",
      "True\n",
      "True\n",
      "True\n",
      "True\n"
     ]
    }
   ],
   "source": [
    "x = 3>2\n",
    "print(x)\n",
    "x = 2<3\n",
    "print(x)\n",
    "x = 3>=2\n",
    "print(x)\n",
    "x =2<=3\n",
    "print(x)\n",
    "x = 3==3\n",
    "print(x)\n",
    "x =3 != 4\n",
    "print(x)\n"
   ]
  },
  {
   "cell_type": "code",
   "execution_count": 55,
   "id": "b06bd45e",
   "metadata": {},
   "outputs": [
    {
     "name": "stdout",
     "output_type": "stream",
     "text": [
      "False\n",
      "False\n",
      "False\n",
      "False\n",
      "False\n",
      "False\n"
     ]
    }
   ],
   "source": [
    "x = 2>3\n",
    "print(x)\n",
    "x = 3<2\n",
    "print(x)\n",
    "x = 2>=3\n",
    "print(x)\n",
    "x =3<=2\n",
    "print(x)\n",
    "x = 3==4\n",
    "print(x)\n",
    "x =3 != 3\n",
    "print(x)\n"
   ]
  },
  {
   "cell_type": "code",
   "execution_count": 56,
   "id": "5f2bb979",
   "metadata": {},
   "outputs": [
    {
     "name": "stdout",
     "output_type": "stream",
     "text": [
      "False\n"
     ]
    }
   ],
   "source": [
    "buah_mangga = 18\n",
    "buah_jambu = 22\n",
    "print(buah_mangga > 10 and buah_jambu < 20)"
   ]
  },
  {
   "cell_type": "code",
   "execution_count": 57,
   "id": "5312f7b3",
   "metadata": {},
   "outputs": [
    {
     "name": "stdout",
     "output_type": "stream",
     "text": [
      "True\n"
     ]
    }
   ],
   "source": [
    "print(buah_mangga > 10 or buah_jambu <30)"
   ]
  },
  {
   "cell_type": "code",
   "execution_count": 8,
   "id": "93b8e9b3",
   "metadata": {},
   "outputs": [
    {
     "name": "stdout",
     "output_type": "stream",
     "text": [
      "nilai anda adalah 90\n",
      "anda mendapat nilai A \n",
      "bagus sekali, selamat!\n"
     ]
    }
   ],
   "source": [
    "# operator if\n",
    "nilai = float(input(\"nilai anda adalah \"))\n",
    "if nilai >= 80:\n",
    "    print(\"anda mendapat nilai A \")\n",
    "    print(\"bagus sekali, selamat!\")\n",
    "if nilai < 80 and nilai >=70:\n",
    "    print(\"anda mendapatkan nilai B\")\n",
    "    print(\"tingkatkan prestasimu!\")\n",
    "if nilai >=60 and nilai < 70:\n",
    "    print(\"anda mendapatkan nilai C\")\n",
    "    print(\"lain kali mesti lebih baik\")\n",
    "if nilai >= 50 and nilai < 60:\n",
    "    print(\"anda mendapatkan nilai D\")\n",
    "    print(\"ulang lagi tahun depan\")\n",
    "if nilai < 50:\n",
    "    print(\"anda mendapat nilai E\")\n",
    "    print(\"sampai jumpa tahun depan\")"
   ]
  },
  {
   "cell_type": "code",
   "execution_count": 9,
   "id": "a5335d7f",
   "metadata": {},
   "outputs": [
    {
     "name": "stdout",
     "output_type": "stream",
     "text": [
      "nilai anda adalah 20\n",
      "anda mendapat nilai E\n",
      "sampai jumpa tahun depan\n"
     ]
    }
   ],
   "source": [
    "nilai = float(input(\"nilai anda adalah \"))\n",
    "if nilai >= 80:\n",
    "    print(\"anda mendapat nilai A\")\n",
    "    print(\"bagus sekali, selamat\")\n",
    "elif nilai >= 70:\n",
    "    print(\"anda mendapat nilai B\")\n",
    "    print(\"tingkatkan prestasimu\")\n",
    "elif nilai >= 60:\n",
    "    print(\"anda mendapat nilai C\")\n",
    "    print(\"lain kali mesti lebih baik\")\n",
    "elif nilai >= 50:\n",
    "    print(\"anda mendapat nilai D\")\n",
    "    print(\"ulang lagi tahun depan\")\n",
    "else:\n",
    "    print(\"anda mendapat nilai E\")\n",
    "    print(\"sampai jumpa tahun depan\")"
   ]
  },
  {
   "cell_type": "code",
   "execution_count": 10,
   "id": "c6146086",
   "metadata": {},
   "outputs": [
    {
     "name": "stdout",
     "output_type": "stream",
     "text": [
      "brpakah tinggi anda?160\n",
      "tingginya dalam cm atau inci?inci\n",
      "tinggi anda adalah 406.39978054411847 cm\n"
     ]
    }
   ],
   "source": [
    "# program merubah tinggi badan dari cm ke inci atau sebaliknya.\n",
    "tinggi = float(input(\"brpakah tinggi anda?\"))\n",
    "cm_atau_inci = input(\"tingginya dalam cm atau inci?\")\n",
    "\n",
    "if cm_atau_inci.upper()=='CM':\n",
    "    tinggi = tinggi*0.393701\n",
    "    print(\"tinggi anda adalah \" + str(tinggi) + \"inci\")\n",
    "elif cm_atau_inci.upper()=='INCI':\n",
    "    tinggi = tinggi/0.393701\n",
    "    print(f\"tinggi anda adalah {tinggi} cm\")\n"
   ]
  },
  {
   "cell_type": "code",
   "execution_count": 11,
   "id": "1200b6ad",
   "metadata": {},
   "outputs": [
    {
     "name": "stdout",
     "output_type": "stream",
     "text": [
      "angka 0 masih dibawah 5\n",
      "angka 1 masih dibawah 5\n",
      "angka 2 masih dibawah 5\n",
      "angka 3 masih dibawah 5\n",
      "angka 4 masih dibawah 5\n",
      "\n",
      "*\n",
      "**\n",
      "***\n",
      "****\n"
     ]
    }
   ],
   "source": [
    "# while loop\n",
    "a = 0\n",
    "while a < 5:\n",
    "    print(\"angka \" + str(a) + \" masih dibawah 5\")\n",
    "    a += 1\n",
    "    \n",
    "a = 0\n",
    "while a < 5:\n",
    "    print(a * '*')\n",
    "    a+=1\n"
   ]
  },
  {
   "cell_type": "code",
   "execution_count": null,
   "id": "52f15253",
   "metadata": {},
   "outputs": [],
   "source": []
  }
 ],
 "metadata": {
  "kernelspec": {
   "display_name": "Python 3 (ipykernel)",
   "language": "python",
   "name": "python3"
  },
  "language_info": {
   "codemirror_mode": {
    "name": "ipython",
    "version": 3
   },
   "file_extension": ".py",
   "mimetype": "text/x-python",
   "name": "python",
   "nbconvert_exporter": "python",
   "pygments_lexer": "ipython3",
   "version": "3.9.7"
  }
 },
 "nbformat": 4,
 "nbformat_minor": 5
}
